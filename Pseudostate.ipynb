{
 "cells": [
  {
   "cell_type": "code",
   "execution_count": 66,
   "id": "47cbeb19",
   "metadata": {},
   "outputs": [
    {
     "name": "stderr",
     "output_type": "stream",
     "text": [
      "\u001b[32m\u001b[1m   Resolving\u001b[22m\u001b[39m package versions...\n",
      "\u001b[32m\u001b[1m    Updating\u001b[22m\u001b[39m `~/.julia/environments/v1.9/Project.toml`\n",
      "  \u001b[90m[37e2e46d] \u001b[39m\u001b[92m+ LinearAlgebra\u001b[39m\n",
      "  \u001b[90m[2f01184e] \u001b[39m\u001b[92m+ SparseArrays\u001b[39m\n",
      "\u001b[32m\u001b[1m  No Changes\u001b[22m\u001b[39m to `~/.julia/environments/v1.9/Manifest.toml`\n"
     ]
    }
   ],
   "source": [
    "#Use this if you don't have all the packages installed, this will add them.\n",
    "import Pkg\n",
    "Pkg.add([\"IterTools\",\"LinearAlgebra\", \"Random\", \"SparseArrays\", \"COSMO\", \"JuMP\"])"
   ]
  },
  {
   "cell_type": "code",
   "execution_count": 1,
   "id": "cc487433",
   "metadata": {},
   "outputs": [],
   "source": [
    "using IterTools\n",
    "using LinearAlgebra, Random, SparseArrays, COSMO, JuMP"
   ]
  },
  {
   "cell_type": "code",
   "execution_count": 23,
   "id": "75cd6967",
   "metadata": {},
   "outputs": [
    {
     "data": {
      "text/plain": [
       "pseudostate_bound_expr (generic function with 2 methods)"
      ]
     },
     "execution_count": 23,
     "metadata": {},
     "output_type": "execute_result"
    }
   ],
   "source": [
    "#Get all Pauli strings of weight W\n",
    "function enumerate_paulistrings(one_paulis::Vector{Char}, n::Int, W::Int)::Vector{String}\n",
    "    res = String[]\n",
    "    #Get all lists of W distinct indices\n",
    "    for indices = IterTools.subsets(1:n, W)\n",
    "        pauli_char_array = repeat(['I'],n)\n",
    "        #And all 3^W Pauli strings on those indices\n",
    "        for pauli_type = Iterators.product(repeat([one_paulis], W)...)\n",
    "            for (i,ci) = enumerate(indices)\n",
    "                pauli_char_array[ci] = pauli_type[i]\n",
    "            end\n",
    "            push!(res, String(pauli_char_array))\n",
    "        end\n",
    "    end\n",
    "    return res\n",
    "end\n",
    "\n",
    "@assert length(enumerate_paulistrings(['F','G','H','J','K'],20,3)) == (5^3) * (20*19*18)/(6)\n",
    "@assert length(enumerate_paulistrings(['X','Y'],5,6)) == 0 #nothing of weight higher than system size\n",
    "\n",
    "#Multiplies two strings, returning a new string and a phase.\n",
    "#Currently only works for qubits with normal XYZ labels.\n",
    "function multiply_paulistrings(strA::String, strB::String)::Tuple{String, Complex}\n",
    "    @assert length(strA) == length(strB) \"Paulis must be same length\"\n",
    "    res_char_array = repeat(['I'],length(strA))\n",
    "    acc_phase = Complex(1) #1 + 0im\n",
    "    for (i,(a,b)) = enumerate(zip(strA, strB))\n",
    "        if a==b\n",
    "            continue #I^2=X^2=Y^2=Z^2 = I\n",
    "        elseif a=='I'\n",
    "            res_char_array[i] = b\n",
    "        elseif b=='I'\n",
    "            res_char_array[i] = a\n",
    "        elseif a=='X' && b=='Y'\n",
    "            res_char_array[i] = 'Z'\n",
    "            acc_phase *= 1im\n",
    "        elseif a=='Y' && b=='Z'\n",
    "            res_char_array[i] = 'X'\n",
    "            acc_phase *= 1im\n",
    "        elseif a=='Z' && b=='X'\n",
    "            res_char_array[i] = 'Y'\n",
    "            acc_phase *= 1im\n",
    "        elseif a=='X' && b=='Z'\n",
    "            res_char_array[i] = 'Y'\n",
    "            acc_phase *= -1im\n",
    "        elseif a=='Y' && b=='X'\n",
    "            res_char_array[i] = 'Z'\n",
    "            acc_phase *= -1im\n",
    "        elseif a=='Z' && b=='Y'\n",
    "            res_char_array[i] = 'X'\n",
    "            acc_phase *= -1im\n",
    "        else\n",
    "            error(\"Bad characters \"+a+\" and \"+b)\n",
    "        end\n",
    "    end\n",
    "    return (String(res_char_array), acc_phase)\n",
    "end\n",
    "\n",
    "@assert multiply_paulistrings(\"IIX\",\"YIX\") == (\"YII\",1)\n",
    "@assert multiply_paulistrings(\"IXXIII\",\"YYIIII\") == (\"YZXIII\",1im)\n",
    "\n",
    "function make_qubit_SDP_vars(q, n, d, k)\n",
    "    @assert k <= 2*d \"Observable order k must be at most 2 times pseudostate level d\"\n",
    "    @assert 2*d <= n+1 \"Level d is higher than make sense for only n qudits; only need ceil(n/2).\"\n",
    "\n",
    "    #Our nontrivial one-local operators (for qubits, the three Paulis). Should be tomographically complete\n",
    "    one_paulis = ['X','Y','Z']\n",
    "    @assert length(one_paulis) == q^2 - 1 \"Incorrect number of local operators\"\n",
    "\n",
    "    #List of lists of Pauli strings for the 'rows' and 'columns' of our pseudostate. The Wth element is\n",
    "    # all the weight-W Pauli strings we need. Goes up to weight d.\n",
    "    row_ops = Vector{String}[]\n",
    "    #And one big list of all operators in the whole matrix, up to weight 2d.\n",
    "    mat_ops = String[]\n",
    "\n",
    "    #Get the operators for each weight. Also, the trivial \"III\" column.\n",
    "    row_III = repeat(\"I\",n)\n",
    "    for W = 1:d\n",
    "        push!(row_ops, enumerate_paulistrings(one_paulis, n, W))\n",
    "    end\n",
    "    row_ops_flat = collect(Iterators.flatten(row_ops))\n",
    "\n",
    "    mat_ops = copy(row_ops_flat)\n",
    "    for W = d+1:2d\n",
    "        append!(mat_ops, enumerate_paulistrings(one_paulis, n, W))\n",
    "    end\n",
    "    return (row_ops, row_ops_flat, mat_ops, row_III)\n",
    "end\n",
    "\n",
    "function make_pseudostate_model(row_ops, row_ops_flat, mat_ops, row_III)\n",
    "    #Build the matrix of these variables for the pseudostate.\n",
    "    #First allocate the variables, all real expectations in the range -1 to 1:\n",
    "    model = JuMP.Model(optimizer_with_attributes(COSMO.Optimizer, \"verbose\" => false));\n",
    "\n",
    "    @variable(model, -1 ≤ vars[mat_ops] ≤ 1)\n",
    "    #Now vars[\"XII\"] is the XII expectation value.\n",
    "\n",
    "    #Next place them in a matrix, with complex coefficients. With the complex coefficients, these are\n",
    "    #type GenericAffExpr{ComplexF64, VariableRef}.\n",
    "    pseudo_len = length(row_ops_flat)\n",
    "    pseudo_mat = zeros(GenericAffExpr{ComplexF64, VariableRef}, 1+pseudo_len, 1+pseudo_len)\n",
    "    for i=0:pseudo_len, j=0:pseudo_len\n",
    "        if i == 0\n",
    "            if j == 0\n",
    "                pseudo_mat[1+i, 1+j] += 1\n",
    "            else\n",
    "                jstr = row_ops_flat[j]\n",
    "                jvar = vars[jstr]\n",
    "                pseudo_mat[1+i, 1+j] += jvar\n",
    "            end\n",
    "        elseif j == 0\n",
    "            istr = row_ops_flat[i]\n",
    "            ivar = vars[istr]\n",
    "            pseudo_mat[1+i, 1+j] += ivar\n",
    "        else\n",
    "            istr = row_ops_flat[i]\n",
    "            jstr = row_ops_flat[j]\n",
    "            ijstr, phase = multiply_paulistrings(istr, jstr)\n",
    "            if ijstr == row_III\n",
    "                ijvar = 1\n",
    "            else\n",
    "                ijvar = vars[ijstr]\n",
    "            end\n",
    "            pseudo_mat[1+i, 1+j] += phase * ijvar\n",
    "        end\n",
    "    end\n",
    "\n",
    "    #Need it as a LinearAlgebra.Hermitian type for JuMP.\n",
    "    pseudo_mat_herm = Hermitian(pseudo_mat)\n",
    "    @assert pseudo_mat_herm == pseudo_mat \"Pseudostate SDP wasn't Hermitian\"\n",
    "\n",
    "    #Add constraint to the model.\n",
    "    @constraint(model, pseudo_mat_herm in HermitianPSDCone())\n",
    "    \n",
    "    return vars, model\n",
    "end\n",
    "\n",
    "function pseudostate_bound_expr(obj_expr, model = (0.0+1*obj_expr).terms.keys[1].model)\n",
    "    #Get measurement to predict (lower bound):\n",
    "    @objective(model, Min, obj_expr)\n",
    "    JuMP.optimize!(model)\n",
    "    if JuMP.primal_status(model) != FEASIBLE_POINT\n",
    "        error(\"Infeasible input data, status = \"*string(JuMP.termination_status(model)))\n",
    "    end\n",
    "    min_val = JuMP.value(obj_expr)\n",
    "    println(\"Min value = \",min_val)\n",
    "\n",
    "    @objective(model, Max, obj_expr)\n",
    "    JuMP.optimize!(model)\n",
    "    if JuMP.primal_status(model) != FEASIBLE_POINT\n",
    "        error(\"Infeasible input data, status = \"*string(JuMP.termination_status(model)))\n",
    "    end\n",
    "    max_val = JuMP.value(obj_expr)\n",
    "\n",
    "    result_interval = [min_val, max_val]\n",
    "    return result_interval\n",
    "end"
   ]
  },
  {
   "cell_type": "markdown",
   "id": "54c6bd95",
   "metadata": {},
   "source": [
    "### 3 Qubits"
   ]
  },
  {
   "cell_type": "code",
   "execution_count": 20,
   "id": "9a3bb0c1",
   "metadata": {},
   "outputs": [],
   "source": [
    "q = 2 #local dimension 2 (qu-k-its == qubits)\n",
    "n = 3 #3 qubits\n",
    "d = 1 #level-1 pseudostate\n",
    "k = 2 #looking at observables of at most order 2\n",
    ";"
   ]
  },
  {
   "cell_type": "code",
   "execution_count": 18,
   "id": "0059d99f",
   "metadata": {},
   "outputs": [
    {
     "name": "stdout",
     "output_type": "stream",
     "text": [
      "Min value = 0.30000000000000004\n",
      "  0.053259 seconds (19.83 k allocations: 7.695 MiB)\n",
      "Possible interval: [0.30000000000000004, 0.35480327522055477]\n",
      "Time for second solve was 0.03172111511230469\n"
     ]
    }
   ],
   "source": [
    "(row_ops, row_ops_flat, mat_ops, row_III) = make_qubit_SDP_vars(q, n, d, k);\n",
    "\n",
    "vars, model = make_pseudostate_model(row_ops, row_ops_flat, mat_ops, row_III)\n",
    "\n",
    "#PAC framework:\n",
    "#Add in measurement data as constraints:\n",
    "@constraint(model, 0.3 ≤ vars[\"IIX\"] ≤ 0.6)\n",
    "@constraint(model, 0.79 ≤ vars[\"IIY\"] ≤ 0.81)\n",
    "@constraint(model, -0.4 ≤ vars[\"XIY\"] ≤ -0.38)\n",
    "@constraint(model, 0.3 ≤ vars[\"YIZ\"] ≤ 0.4)\n",
    "@constraint(model, 0.2 ≤ vars[\"ZIX\"] ≤ 0.25)\n",
    "@constraint(model, 0.5 ≤ vars[\"IYZ\"] ≤ 0.55)\n",
    "@constraint(model, 0.72 ≤ vars[\"XZI\"] ≤ 0.74)\n",
    "@constraint(model, 0.72 ≤ vars[\"YXI\"] ≤ 0.74)\n",
    "\n",
    "@time res_interval = pseudostate_bound_expr(vars[\"IIX\"])\n",
    "println(\"Possible interval: \",res_interval)\n",
    "println(\"Time for second solve was \",solve_time(model))"
   ]
  },
  {
   "cell_type": "markdown",
   "id": "3202af0a",
   "metadata": {},
   "source": [
    "Rerunning the same data at pseudostate level 2 now:"
   ]
  },
  {
   "cell_type": "code",
   "execution_count": 19,
   "id": "3d279a61",
   "metadata": {},
   "outputs": [
    {
     "name": "stdout",
     "output_type": "stream",
     "text": [
      "Min value = 0.30000000000000004\n",
      "  1.768557 seconds (61.64 k allocations: 88.175 MiB, 0.93% gc time)\n",
      "Possible interval: [0.30000000000000004, 0.3034448202654543]\n",
      "Time for second solve was 0.4734208583831787\n"
     ]
    }
   ],
   "source": [
    "d = 2\n",
    "(row_ops, row_ops_flat, mat_ops, row_III) = make_qubit_SDP_vars(q, n, d, k)\n",
    "vars, model = make_pseudostate_model(row_ops, row_ops_flat, mat_ops, row_III)\n",
    "\n",
    "#PAC framework:\n",
    "#Add in measurement data as constraints:\n",
    "@constraint(model, 0.3 ≤ vars[\"IIX\"] ≤ 0.6)\n",
    "@constraint(model, 0.79 ≤ vars[\"IIY\"] ≤ 0.81)\n",
    "@constraint(model, -0.4 ≤ vars[\"XIY\"] ≤ -0.38)\n",
    "@constraint(model, 0.3 ≤ vars[\"YIZ\"] ≤ 0.4)\n",
    "@constraint(model, 0.2 ≤ vars[\"ZIX\"] ≤ 0.25)\n",
    "@constraint(model, 0.5 ≤ vars[\"IYZ\"] ≤ 0.55)\n",
    "@constraint(model, 0.72 ≤ vars[\"XZI\"] ≤ 0.74)\n",
    "@constraint(model, 0.72 ≤ vars[\"YXI\"] ≤ 0.74)\n",
    "\n",
    "@time res_interval = pseudostate_bound_expr(vars[\"IIX\"])\n",
    "println(\"Possible interval: \",res_interval)\n",
    "println(\"Time for second solve was \",solve_time(model))"
   ]
  },
  {
   "cell_type": "markdown",
   "id": "fc264c52",
   "metadata": {},
   "source": [
    "### 8 qubits"
   ]
  },
  {
   "cell_type": "code",
   "execution_count": 54,
   "id": "3737a0cd",
   "metadata": {},
   "outputs": [
    {
     "data": {
      "text/plain": [
       "test_11_qubits (generic function with 1 method)"
      ]
     },
     "execution_count": 54,
     "metadata": {},
     "output_type": "execute_result"
    }
   ],
   "source": [
    "function test_11_qubits(model, vars)\n",
    "    #PAC framework:\n",
    "    #Add in measurement data as constraints:\n",
    "    @constraint(model, -0.9 ≤ vars[\"IIXIIIII\"] ≤ 0.6)\n",
    "    @constraint(model, 0.79 ≤ vars[\"IIYIIIII\"] ≤ 0.81)\n",
    "    @constraint(model, 0.3 ≤ vars[\"XIIIIIII\"] ≤ 0.6)\n",
    "    @constraint(model, 0.79 ≤ vars[\"YIIIIIII\"] ≤ 0.81)\n",
    "    @constraint(model, 0.3 ≤ vars[\"IIZIIIIX\"] ≤ 0.6)\n",
    "    @constraint(model, 0.79 ≤ vars[\"IIIIXIIZ\"] ≤ 0.81)\n",
    "    @constraint(model, -0.4 ≤ vars[\"IIYIIIXI\"] ≤ -0.38)\n",
    "    @constraint(model, 0.3 ≤ vars[\"IYIZIIII\"] ≤ 0.4)\n",
    "    @constraint(model, 0.2 ≤ vars[\"IZIXIIII\"] ≤ 0.25)\n",
    "    @constraint(model, 0.3 ≤ vars[\"IIIIIYIZ\"] ≤ 0.4)\n",
    "    @constraint(model, 0.2 ≤ vars[\"IIIIIZIX\"] ≤ 0.25)\n",
    "    @constraint(model, 0.5 ≤ vars[\"IIIYZIII\"] ≤ 0.55)\n",
    "    @constraint(model, 0.5 ≤ vars[\"IIIIIYZI\"] ≤ 0.55)\n",
    "    @constraint(model, 0.72 ≤ vars[\"IIIIIXZI\"] ≤ 0.74)\n",
    "    @constraint(model, 0.72 ≤ vars[\"YXIIIIII\"] ≤ 0.74)\n",
    "    @constraint(model, 0.72 ≤ vars[\"IIIIXZII\"] ≤ 0.74)\n",
    "    @constraint(model, 0.72 ≤ vars[\"IIIIYXII\"] ≤ 0.74)\n",
    "end"
   ]
  },
  {
   "cell_type": "code",
   "execution_count": 55,
   "id": "90851814",
   "metadata": {},
   "outputs": [
    {
     "name": "stdout",
     "output_type": "stream",
     "text": [
      "Min value = -0.5346960295726031\n",
      "  0.248197 seconds (63.75 k allocations: 38.414 MiB)\n",
      "Possible interval: [-0.5346960295726031, 0.5346923598918945]\n",
      "Time for second solve was 0.11071610450744629\n"
     ]
    }
   ],
   "source": [
    "q = 2 #local dimension 2 (qu-k-its == qubits)\n",
    "n = 8 #8 qubits\n",
    "d = 1 #level-1 pseudostate\n",
    "k = 2 #looking at observables of at most order 2\n",
    "\n",
    "(row_ops, row_ops_flat, mat_ops, row_III) = make_qubit_SDP_vars(q, n, d, k);\n",
    "\n",
    "\n",
    "vars, model = make_pseudostate_model(row_ops, row_ops_flat, mat_ops, row_III)\n",
    "\n",
    "test_11_qubits(model, vars)\n",
    "\n",
    "@time res_interval = pseudostate_bound_expr(vars[\"IIXIIIII\"])\n",
    "println(\"Possible interval: \",res_interval)\n",
    "println(\"Time for second solve was \",solve_time(model))"
   ]
  },
  {
   "cell_type": "code",
   "execution_count": 63,
   "id": "f08b0df9",
   "metadata": {},
   "outputs": [
    {
     "data": {
      "text/plain": [
       "test_11_qubits_2 (generic function with 1 method)"
      ]
     },
     "execution_count": 63,
     "metadata": {},
     "output_type": "execute_result"
    }
   ],
   "source": [
    "function test_11_qubits_2(model, vars)\n",
    "    #PAC framework:\n",
    "    #Add in measurement data as constraints:\n",
    "    @constraint(model, -0.9 ≤ vars[\"IIXIIIII\"] ≤ 0.6)\n",
    "    @constraint(model, 0.79 ≤ vars[\"IIYIIIII\"] ≤ 0.81)\n",
    "    @constraint(model, 0.3 ≤ vars[\"XIIIIIII\"] ≤ 0.6)\n",
    "    @constraint(model, 0.79 ≤ vars[\"YIIIIIII\"] ≤ 0.81)\n",
    "    @constraint(model, 0.3 ≤ vars[\"IIZIIIIX\"] ≤ 0.6)\n",
    "#     @constraint(model, 0.79 ≤ vars[\"IIIIXIIZ\"] ≤ 0.81)\n",
    "    @constraint(model, -0.4 ≤ vars[\"IIYIIIXI\"] ≤ -0.38)\n",
    "#     @constraint(model, 0.3 ≤ vars[\"IYIZIIII\"] ≤ 0.4)\n",
    "    @constraint(model, 0.2 ≤ vars[\"IZIXIIII\"] ≤ 0.25)\n",
    "#     @constraint(model, 0.3 ≤ vars[\"IIIIIYIZ\"] ≤ 0.4)\n",
    "    @constraint(model, 0.2 ≤ vars[\"IIIIIZIX\"] ≤ 0.25)\n",
    "#     @constraint(model, 0.5 ≤ vars[\"IIIYZIII\"] ≤ 0.55)\n",
    "    @constraint(model, 0.5 ≤ vars[\"IIIIIYZI\"] ≤ 0.55)\n",
    "#     @constraint(model, 0.72 ≤ vars[\"IIIIIXZI\"] ≤ 0.74)\n",
    "    @constraint(model, 0.72 ≤ vars[\"YXIIIIII\"] ≤ 0.74)\n",
    "#     @constraint(model, 0.72 ≤ vars[\"IIIIXZII\"] ≤ 0.74)\n",
    "    @constraint(model, 0.72 ≤ vars[\"IIIIYXII\"] ≤ 0.74)\n",
    "end"
   ]
  },
  {
   "cell_type": "code",
   "execution_count": 64,
   "id": "b189b378",
   "metadata": {},
   "outputs": [
    {
     "name": "stdout",
     "output_type": "stream",
     "text": [
      "Min value = -0.5347273453036312\n",
      " 68.357837 seconds (2.79 M allocations: 3.120 GiB, 0.13% gc time)\n",
      "Possible interval: [-0.5347273453036312, 0.5347282391754715]\n",
      "Time for second solve was 37.02287316322327\n"
     ]
    }
   ],
   "source": [
    "q = 2 #local dimension 2 (qu-k-its == qubits)\n",
    "n = 8 #8 qubits\n",
    "d = 2 #level-2 pseudostate\n",
    "k = 2 #looking at observables of at most order 2\n",
    "\n",
    "(row_ops, row_ops_flat, mat_ops, row_III) = make_qubit_SDP_vars(q, n, d, k);\n",
    "\n",
    "\n",
    "vars, model = make_pseudostate_model(row_ops, row_ops_flat, mat_ops, row_III)\n",
    "\n",
    "test_11_qubits_2(model, vars)\n",
    "\n",
    "@time res_interval = pseudostate_bound_expr(vars[\"IIXIIIII\"])\n",
    "println(\"Possible interval: \",res_interval)\n",
    "println(\"Time for second solve was \",solve_time(model))"
   ]
  }
 ],
 "metadata": {
  "kernelspec": {
   "display_name": "Julia 1.9.3",
   "language": "julia",
   "name": "julia-1.9"
  },
  "language_info": {
   "file_extension": ".jl",
   "mimetype": "application/julia",
   "name": "julia",
   "version": "1.9.3"
  }
 },
 "nbformat": 4,
 "nbformat_minor": 5
}
