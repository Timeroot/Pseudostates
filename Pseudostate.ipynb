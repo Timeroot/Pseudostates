{
 "cells": [
  {
   "cell_type": "code",
   "execution_count": 1,
   "id": "4f3f026e",
   "metadata": {},
   "outputs": [
    {
     "name": "stderr",
     "output_type": "stream",
     "text": [
      "\u001b[32m\u001b[1m    Updating\u001b[22m\u001b[39m registry at `~/.julia/registries/General.toml`\n",
      "\u001b[32m\u001b[1m   Resolving\u001b[22m\u001b[39m package versions...\n",
      "\u001b[32m\u001b[1m  No Changes\u001b[22m\u001b[39m to `~/.julia/environments/v1.9/Project.toml`\n",
      "\u001b[32m\u001b[1m  No Changes\u001b[22m\u001b[39m to `~/.julia/environments/v1.9/Manifest.toml`\n"
     ]
    }
   ],
   "source": [
    "#Use this if you don't have all the packages installed, this will add them.\n",
    "import Pkg\n",
    "Pkg.add([\"IterTools\", \"SparseArrays\", \"COSMO\", \"JuMP\"])"
   ]
  },
  {
   "cell_type": "code",
   "execution_count": 2,
   "id": "a6c546dc",
   "metadata": {},
   "outputs": [],
   "source": [
    "using IterTools\n",
    "using LinearAlgebra, Random, SparseArrays, COSMO, JuMP"
   ]
  },
  {
   "cell_type": "markdown",
   "id": "5a05f13e",
   "metadata": {},
   "source": [
    "# Code"
   ]
  },
  {
   "cell_type": "markdown",
   "id": "bfc21a6a-89ed-4f5e-b794-03dd61e15996",
   "metadata": {},
   "source": [
    "## Pauli Strings"
   ]
  },
  {
   "cell_type": "code",
   "execution_count": 111,
   "id": "24846a5e-0ba1-48fc-b494-caa8db381dbb",
   "metadata": {},
   "outputs": [],
   "source": [
    "#Get all Pauli strings of weight W\n",
    "function enumerate_paulistrings(one_paulis::Vector{Char}, n::Int, W::Int)::Vector{String}\n",
    "    res = String[]\n",
    "    #Get all lists of W distinct indices\n",
    "    for indices = IterTools.subsets(1:n, W)\n",
    "        pauli_char_array = repeat(['I'],n)\n",
    "        #And all 3^W Pauli strings on those indices\n",
    "        for pauli_type = Iterators.product(repeat([one_paulis], W)...)\n",
    "            for (i,ci) = enumerate(indices)\n",
    "                pauli_char_array[ci] = pauli_type[i]\n",
    "            end\n",
    "            push!(res, String(pauli_char_array))\n",
    "        end\n",
    "    end\n",
    "    return res\n",
    "end\n",
    "\n",
    "@assert length(enumerate_paulistrings(['F','G','H','J','K'],20,3)) == (5^3) * (20*19*18)/(6)\n",
    "@assert length(enumerate_paulistrings(['X','Y'],5,6)) == 0 #nothing of weight higher than system size\n",
    "\n",
    "#Multiplies two strings, returning a new string and a phase.\n",
    "#Currently only works for qubits with normal XYZ labels.\n",
    "function multiply_paulistrings(strA::String, strB::String)::Tuple{String, Complex}\n",
    "    @assert length(strA) == length(strB) \"Paulis must be same length\"\n",
    "    res_char_array = repeat(['I'],length(strA))\n",
    "    acc_phase = Complex(1) #1 + 0im\n",
    "    for (i,(a,b)) = enumerate(zip(strA, strB))\n",
    "        if a==b\n",
    "            continue #I^2=X^2=Y^2=Z^2 = I\n",
    "        elseif a=='I'\n",
    "            res_char_array[i] = b\n",
    "        elseif b=='I'\n",
    "            res_char_array[i] = a\n",
    "        elseif a=='X' && b=='Y'\n",
    "            res_char_array[i] = 'Z'\n",
    "            acc_phase *= 1im\n",
    "        elseif a=='Y' && b=='Z'\n",
    "            res_char_array[i] = 'X'\n",
    "            acc_phase *= 1im\n",
    "        elseif a=='Z' && b=='X'\n",
    "            res_char_array[i] = 'Y'\n",
    "            acc_phase *= 1im\n",
    "        elseif a=='X' && b=='Z'\n",
    "            res_char_array[i] = 'Y'\n",
    "            acc_phase *= -1im\n",
    "        elseif a=='Y' && b=='X'\n",
    "            res_char_array[i] = 'Z'\n",
    "            acc_phase *= -1im\n",
    "        elseif a=='Z' && b=='Y'\n",
    "            res_char_array[i] = 'X'\n",
    "            acc_phase *= -1im\n",
    "        else\n",
    "            error(\"Bad characters \"+a+\" and \"+b)\n",
    "        end\n",
    "    end\n",
    "    return (String(res_char_array), acc_phase)\n",
    "end\n",
    "\n",
    "@assert multiply_paulistrings(\"IIX\",\"YIX\") == (\"YII\",1)\n",
    "@assert multiply_paulistrings(\"IXXIII\",\"YYIIII\") == (\"YZXIII\",1im)"
   ]
  },
  {
   "cell_type": "markdown",
   "id": "52c84fe5-bafe-44cd-82e5-5483b357e432",
   "metadata": {},
   "source": [
    "## Variable allocation"
   ]
  },
  {
   "cell_type": "code",
   "execution_count": 4,
   "id": "4d654ecd-82a6-4b16-b9b4-042827717394",
   "metadata": {},
   "outputs": [
    {
     "data": {
      "text/plain": [
       "pauli_from_var (generic function with 1 method)"
      ]
     },
     "execution_count": 4,
     "metadata": {},
     "output_type": "execute_result"
    }
   ],
   "source": [
    "#Make a fresh batch of variables for a new pseudostate\n",
    "function make_qubit_SDP_vars(model, q, n, d, k)\n",
    "    @assert k <= 2*d \"Observable order k must be at most 2 times pseudostate level d\"\n",
    "    @assert 2*d <= n+1 \"Level d is higher than make sense for only n qudits; only need ceil(n/2).\"\n",
    "\n",
    "    #Our nontrivial one-local operators (for qubits, the three Paulis). Should be tomographically complete\n",
    "    one_paulis = ['X','Y','Z']\n",
    "    @assert length(one_paulis) == q^2 - 1 \"Incorrect number of local operators\"\n",
    "\n",
    "    #List of lists of Pauli strings for the 'rows' and 'columns' of our pseudostate. The Wth element is\n",
    "    # all the weight-W Pauli strings we need. Goes up to weight d.\n",
    "    row_ops = Vector{String}[]\n",
    "    #And one big list of all operators in the whole matrix, up to weight 2d.\n",
    "    mat_ops = String[]\n",
    "\n",
    "    #Get the operators for each weight. Also, the trivial \"III\" column.\n",
    "    row_III = repeat(\"I\",n)\n",
    "    for W = 1:d\n",
    "        push!(row_ops, enumerate_paulistrings(one_paulis, n, W))\n",
    "    end\n",
    "    row_ops_flat = collect(Iterators.flatten(row_ops))\n",
    "\n",
    "    mat_ops = copy(row_ops_flat)\n",
    "    for W = d+1:2d\n",
    "        append!(mat_ops, enumerate_paulistrings(one_paulis, n, W))\n",
    "    end\n",
    "    \n",
    "    #First allocate the variables, all real expectations in the range -1 to 1:\n",
    "    @variable(model, -1 ≤ vars[mat_ops] ≤ 1)\n",
    "    #Now vars[\"XII\"] is the XII expectation value.\n",
    "    \n",
    "    return (row_ops_flat, row_III, vars)\n",
    "end\n",
    "\n",
    "#Given a variable in a model, get its Pauli string.\n",
    "function pauli_from_var(var)\n",
    "    return name(var)[6:end-1]\n",
    "end"
   ]
  },
  {
   "cell_type": "markdown",
   "id": "8d9154aa-33f7-42ee-bf9e-31c3abb5a4be",
   "metadata": {},
   "source": [
    "## Pseudostate constraint"
   ]
  },
  {
   "cell_type": "code",
   "execution_count": 5,
   "id": "edb266f8",
   "metadata": {},
   "outputs": [
    {
     "data": {
      "text/plain": [
       "pseudostate_bound_expr (generic function with 2 methods)"
      ]
     },
     "execution_count": 5,
     "metadata": {},
     "output_type": "execute_result"
    }
   ],
   "source": [
    "function make_pseudostate_model(model, vars, row_ops_flat, row_III)\n",
    "    #Build the matrix of these variables for the pseudostate.\n",
    "    #Place them in a matrix, with complex coefficients. With the complex coefficients, these are\n",
    "    #type GenericAffExpr{ComplexF64, VariableRef}.\n",
    "    pseudo_len = length(row_ops_flat)\n",
    "    pseudo_mat = zeros(GenericAffExpr{ComplexF64, VariableRef}, 1+pseudo_len, 1+pseudo_len)\n",
    "    for i=0:pseudo_len, j=0:pseudo_len\n",
    "        if i == 0\n",
    "            if j == 0\n",
    "                pseudo_mat[1+i, 1+j] += 1\n",
    "            else\n",
    "                jstr = row_ops_flat[j]\n",
    "                jvar = vars[jstr]\n",
    "                pseudo_mat[1+i, 1+j] += jvar\n",
    "            end\n",
    "        elseif j == 0\n",
    "            istr = row_ops_flat[i]\n",
    "            ivar = vars[istr]\n",
    "            pseudo_mat[1+i, 1+j] += ivar\n",
    "        else\n",
    "            istr = row_ops_flat[i]\n",
    "            jstr = row_ops_flat[j]\n",
    "            ijstr, phase = multiply_paulistrings(istr, jstr)\n",
    "            if ijstr == row_III\n",
    "                ijvar = 1\n",
    "            else\n",
    "                ijvar = vars[ijstr]\n",
    "            end\n",
    "            pseudo_mat[1+i, 1+j] += phase * ijvar\n",
    "        end\n",
    "    end\n",
    "\n",
    "    #Need it as a LinearAlgebra.Hermitian type for JuMP.\n",
    "    pseudo_mat_herm = Hermitian(pseudo_mat)\n",
    "    @assert pseudo_mat_herm == pseudo_mat \"Pseudostate SDP wasn't Hermitian\"\n",
    "\n",
    "    #Add constraint to the model.\n",
    "    @constraint(model, pseudo_mat_herm in HermitianPSDCone())\n",
    "end\n",
    "\n",
    "function pseudostate_bound_expr(obj_expr, model = (0.0+1*obj_expr).terms.keys[1].model)\n",
    "    #Get measurement to predict (lower bound):\n",
    "    @objective(model, Min, obj_expr)\n",
    "    JuMP.optimize!(model)\n",
    "    if JuMP.primal_status(model) != FEASIBLE_POINT\n",
    "        error(\"Infeasible input data, status = \"*string(JuMP.termination_status(model)))\n",
    "    end\n",
    "    min_val = JuMP.value(obj_expr)\n",
    "    println(\"Min value = \",min_val)\n",
    "\n",
    "    @objective(model, Max, obj_expr)\n",
    "    JuMP.optimize!(model)\n",
    "    if JuMP.primal_status(model) != FEASIBLE_POINT\n",
    "        error(\"Infeasible input data, status = \"*string(JuMP.termination_status(model)))\n",
    "    end\n",
    "    max_val = JuMP.value(obj_expr)\n",
    "\n",
    "    result_interval = [min_val, max_val]\n",
    "    return result_interval\n",
    "end"
   ]
  },
  {
   "cell_type": "markdown",
   "id": "00f6fb78-be92-42d7-b447-9e44af8d41e0",
   "metadata": {},
   "source": [
    "## Unitary Evolution"
   ]
  },
  {
   "cell_type": "code",
   "execution_count": 10,
   "id": "194664be-638a-4a01-9263-50aafad6d229",
   "metadata": {},
   "outputs": [
    {
     "ename": "LoadError",
     "evalue": "invalid redefinition of constant Unitary",
     "output_type": "error",
     "traceback": [
      "invalid redefinition of constant Unitary",
      "",
      "Stacktrace:",
      " [1] top-level scope",
      "   @ In[10]:4"
     ]
    }
   ],
   "source": [
    "#We describe a unitary as a sum of Paulis. In particular, it's an dictionary of terms, each is a Pauli string (of equal length)\n",
    "# and a complex coefficient associated to it. Each string must be equal length, and it forms a unitary as long as the coefficients\n",
    "#normalize to 1.\n",
    "const Unitary = Dict{String, <:Complex}\n",
    "\n",
    "#General observables are also sums of Paulis. Instead of requiring that the coefficients have norm 1, the coefficients must\n",
    "#all be real.\n",
    "const Observable = Dict{String, <:Real}"
   ]
  },
  {
   "cell_type": "code",
   "execution_count": 35,
   "id": "5b212071-d86c-479a-ad75-c6f125b4f19b",
   "metadata": {},
   "outputs": [
    {
     "data": {
      "text/plain": [
       "* (generic function with 402 methods)"
      ]
     },
     "execution_count": 35,
     "metadata": {},
     "output_type": "execute_result"
    }
   ],
   "source": [
    "#Helper functions to get the d-locality of a unitary or an observable.\n",
    "function locality(U::Unitary)\n",
    "    return length(first(U)[1])\n",
    "end\n",
    "\n",
    "function locality(O::Observable)\n",
    "    return length(first(O)[1])\n",
    "end\n",
    "\n",
    "function str_to_obs(S::String)::Observable\n",
    "    return Dict{String,Real}(S => 1)\n",
    "end\n",
    "\n",
    "import Base.+, Base.*\n",
    "\n",
    "function add!(O::Observable, change::Observable)\n",
    "    for (s,w) = change\n",
    "        if s ∉ keys(O)\n",
    "            O[s] = w\n",
    "        else\n",
    "            O[s] += w\n",
    "        end\n",
    "    end\n",
    "    return O\n",
    "end\n",
    "\n",
    "function +(O1::Observable, O2::Observable)\n",
    "    return add!(copy(O1), O2)\n",
    "end\n",
    "\n",
    "function mul!(O::Observable, scl::Real)\n",
    "    for (s,w) = O\n",
    "        O[s] = w * scl\n",
    "    end\n",
    "    return O\n",
    "end\n",
    "\n",
    "function *(O::Observable, scl::Real)\n",
    "    return mul!(copy(O), scl)\n",
    "end"
   ]
  },
  {
   "cell_type": "code",
   "execution_count": 88,
   "id": "718f32e6-01e8-4df5-9130-0e30faa779d3",
   "metadata": {},
   "outputs": [
    {
     "data": {
      "text/plain": [
       "conjugate_observable (generic function with 1 method)"
      ]
     },
     "execution_count": 88,
     "metadata": {},
     "output_type": "execute_result"
    }
   ],
   "source": [
    "#Given a unitary U and a Pauli string P, compute its conjugation as an observable.\n",
    "function conjugate_pauli(U::Unitary, P::String)\n",
    "    res = Dict{String, Real}()\n",
    "    #(Each w1*s1 in U)† * (P) * (Each w2*s2 in U)\n",
    "    for (s1,w1) = U\n",
    "        w1 = conj(w1)\n",
    "        s1P, w1P = multiply_paulistrings(s1, P)\n",
    "        for (s2,w2) = U\n",
    "            s1P2, w1P2 = multiply_paulistrings(s1P, s2)\n",
    "            phase = w1 * w1P * w1P2 * w2\n",
    "            coef = real(phase)\n",
    "            if coef == 0.0\n",
    "                continue\n",
    "            end\n",
    "            if s1P2 ∉ keys(res)\n",
    "                res[s1P2] = 0.0\n",
    "            end\n",
    "            res[s1P2] += coef\n",
    "        end\n",
    "    end\n",
    "    return res\n",
    "end\n",
    "\n",
    "function conjugate_observable(U::Unitary, O::Observable)\n",
    "    res = Dict{String,Real}()\n",
    "    for (k,v) = O\n",
    "        UkU = conjugate_pauli(U, k)\n",
    "        mul!(UkU, v)\n",
    "        add!(res, UkU)\n",
    "    end\n",
    "    return filter(kv -> kv[2] != 0, res)\n",
    "end"
   ]
  },
  {
   "cell_type": "code",
   "execution_count": 96,
   "id": "9ce16ff5-8deb-464e-a6b2-bcd85bb43eb0",
   "metadata": {},
   "outputs": [
    {
     "name": "stdout",
     "output_type": "stream",
     "text": [
      "Dict{String, Real}(\"Z\" => 0.0, \"X\" => 0.9999999999999998)\n",
      "Dict{String, Real}(\"ZI\" => 0.5, \"ZY\" => 500.0)\n",
      "Dict{String, Real}(\"ZI\" => 0.5, \"IY\" => 500.0)\n"
     ]
    }
   ],
   "source": [
    "#Test: conjugate Z by a Hadamard.\n",
    "H = Dict{String,Complex}(\"Z\" => 1/sqrt(2), \"X\" => 1/sqrt(2))\n",
    "\n",
    "println(conjugate_pauli(H, \"Z\"))\n",
    "\n",
    "#Conjugate 0.5*ZI + 500*IY by a CZ.\n",
    "CZ = Dict{String,Complex}(\"II\" => 1/2, \"IZ\" => 1/2, \"ZI\" => 1/2, \"ZZ\" => -1/2)\n",
    "obs = str_to_obs(\"ZI\")*0.5 + str_to_obs(\"IY\")*500\n",
    "obs = conjugate_observable(CZ, obs)\n",
    "println(obs)\n",
    "\n",
    "#Further conjugate by a CNOT (which gives the original value again)\n",
    "CNOT = Dict{String,Complex}(\"II\" => 1/2, \"IX\" => 1/2, \"ZI\" => 1/2, \"ZX\" => -1/2)\n",
    "obs = conjugate_observable(CNOT, obs)\n",
    "println(obs)"
   ]
  },
  {
   "cell_type": "code",
   "execution_count": 114,
   "id": "08e806ef-beda-4412-8877-69b9e82addb4",
   "metadata": {},
   "outputs": [
    {
     "data": {
      "text/plain": [
       "project_SDP_vars (generic function with 2 methods)"
      ]
     },
     "execution_count": 114,
     "metadata": {},
     "output_type": "execute_result"
    }
   ],
   "source": [
    "#Given a set of level-d variables, apply a 1-local unitary\n",
    "#TODO\n",
    "\n",
    "#Given a set of level-d variables, add new variables to make a level-(d+1) set\n",
    "function extend_SDP_vars(model, d, old_vars)\n",
    "    #Unregister the old \"vars\" in the model\n",
    "    unregister(model, :vars)\n",
    "    \n",
    "    #Get the new variable names needed\n",
    "    new_row_flat, row_III, new_vars = make_qubit_SDP_vars(model, q, n, d+1, k)\n",
    "\n",
    "    #Make a new pseudostate matrix with them\n",
    "    make_pseudostate_model(model, new_vars, new_row_flat, row_III)\n",
    "\n",
    "    #Set them equal to the projections of the original ones\n",
    "    for old_var = old_vars\n",
    "        pauli_name = pauli_from_var(old_var)\n",
    "        new_var = new_vars[pauli_name]\n",
    "        @constraint(model, old_var == new_var)\n",
    "    end\n",
    "    return new_vars\n",
    "end\n",
    "\n",
    "#Given a level-(d+1) set of variables and a 2-local unitary, give the projection level-2 values.\n",
    "function project_SDP_vars(model, d, lifted_vars, U::Unitary)\n",
    "    #Unregister the old \"vars\" in the model\n",
    "    unregister(model, :vars)\n",
    "    \n",
    "    #Get the new variable names needed\n",
    "    new_row_flat, row_III, new_vars = make_qubit_SDP_vars(model, q, n, d, k)\n",
    "\n",
    "    #Don't need to make a pseudostate constraint, this is automatically implied by the projection.\n",
    "    # would be   make_pseudostate_model(model, new_vars, new_row_flat, row_III)\n",
    "    \n",
    "    #Set them equal to the lifts of the new observables (Heisenberg picture)\n",
    "    for new_var = new_vars\n",
    "        pauli_name = pauli_from_var(new_var)\n",
    "        heisenberg_obs = conjugate_pauli(U, pauli_name)\n",
    "        obs_expr = 0.0\n",
    "        for (pauli_str, coef) = heisenberg_obs\n",
    "            if pauli_str == repeat(\"I\",n)\n",
    "                obs_expr += coef\n",
    "            else\n",
    "                obs_expr += coef * lifted_vars[pauli_str]\n",
    "            end\n",
    "        end\n",
    "        @constraint(model, new_var == obs_expr)\n",
    "    end\n",
    "    return new_vars\n",
    "end\n",
    "#TODO"
   ]
  },
  {
   "cell_type": "markdown",
   "id": "01c49379-ab45-453b-9956-7f26a696919b",
   "metadata": {},
   "source": [
    "# Experiments"
   ]
  },
  {
   "cell_type": "markdown",
   "id": "f9d9a299-a987-479a-9c9f-7e8f34d27964",
   "metadata": {},
   "source": [
    "## PAC learning"
   ]
  },
  {
   "cell_type": "markdown",
   "id": "5c3ba63c",
   "metadata": {},
   "source": [
    "### 3 Qubits"
   ]
  },
  {
   "cell_type": "code",
   "execution_count": 6,
   "id": "7d823f12",
   "metadata": {},
   "outputs": [],
   "source": [
    "q = 2 #local dimension 2 (qu-k-its == qubits)\n",
    "n = 3 #3 qubits\n",
    "d = 1 #level-1 pseudostate\n",
    "k = 2 #looking at observables of at most order 2\n",
    ";"
   ]
  },
  {
   "cell_type": "code",
   "execution_count": 8,
   "id": "a8938d15",
   "metadata": {},
   "outputs": [
    {
     "name": "stdout",
     "output_type": "stream",
     "text": [
      "Min value = 0.30000000000000004\n",
      "  0.056490 seconds (19.82 k allocations: 7.695 MiB)\n",
      "Possible interval for IIX: [0.30000000000000004, 0.35480327522055477]\n",
      "Time for maximization solve was 0.03197288513183594\n",
      "Min value = 0.29999999999993454\n",
      "  0.046009 seconds (13.66 k allocations: 6.408 MiB)\n",
      "Possible interval YIZ: [0.29999999999993454, 0.3999999999999706]\n"
     ]
    }
   ],
   "source": [
    "model = JuMP.Model(optimizer_with_attributes(COSMO.Optimizer, \"verbose\" => false));\n",
    "\n",
    "(row_ops_flat, row_III, vars) = make_qubit_SDP_vars(model, q, n, d, k);\n",
    "\n",
    "make_pseudostate_model(model, vars, row_ops_flat, row_III)\n",
    "\n",
    "#PAC framework:\n",
    "#Add in measurement data as constraints:\n",
    "@constraint(model, 0.3 ≤ vars[\"IIX\"] ≤ 0.6)\n",
    "@constraint(model, 0.79 ≤ vars[\"IIY\"] ≤ 0.81)\n",
    "@constraint(model, -0.4 ≤ vars[\"XIY\"] ≤ -0.38)\n",
    "@constraint(model, 0.3 ≤ vars[\"YIZ\"] ≤ 0.4)\n",
    "@constraint(model, 0.2 ≤ vars[\"ZIX\"] ≤ 0.25)\n",
    "@constraint(model, 0.5 ≤ vars[\"IYZ\"] ≤ 0.55)\n",
    "@constraint(model, 0.72 ≤ vars[\"XZI\"] ≤ 0.74)\n",
    "@constraint(model, 0.72 ≤ vars[\"YXI\"] ≤ 0.74)\n",
    "\n",
    "#The \"@time\" prints out the time taken for this computation\n",
    "@time res_interval = pseudostate_bound_expr(vars[\"IIX\"])\n",
    "println(\"Possible interval for IIX: \",res_interval)\n",
    "\n",
    "#The majority of the solve time is the first minimization. The second solve, the maximization, is usually quite a bit faster.\n",
    "println(\"Time for maximization solve was \",solve_time(model))\n",
    "\n",
    "@time res_interval = pseudostate_bound_expr(vars[\"YIZ\"])\n",
    "println(\"Possible interval YIZ: \",res_interval)"
   ]
  },
  {
   "cell_type": "markdown",
   "id": "8cf3dee3",
   "metadata": {},
   "source": [
    "Rerunning the same data at pseudostate level 2 now:"
   ]
  },
  {
   "cell_type": "code",
   "execution_count": 9,
   "id": "b4da511b",
   "metadata": {},
   "outputs": [
    {
     "name": "stdout",
     "output_type": "stream",
     "text": [
      "Min value = 0.30000000000000004\n",
      "  1.942969 seconds (117.18 k allocations: 91.951 MiB, 1.54% gc time, 1.94% compilation time)\n",
      "Possible interval for IIX: [0.30000000000000004, 0.3034448202654543]\n",
      "Time for maximization solve was 0.513416051864624\n",
      "Min value = 0.3000205324689946\n",
      "  2.618865 seconds (39.56 k allocations: 131.362 MiB, 0.41% gc time)\n",
      "Possible interval YIZ: [0.3000205324689946, 0.3099167256054529]\n"
     ]
    }
   ],
   "source": [
    "d = 2 #change d=1 to d=2\n",
    "\n",
    "model = JuMP.Model(optimizer_with_attributes(COSMO.Optimizer, \"verbose\" => false));\n",
    "(row_ops_flat, row_III, vars) = make_qubit_SDP_vars(model, q, n, d, k);\n",
    "make_pseudostate_model(model, vars, row_ops_flat, row_III)\n",
    "\n",
    "#PAC framework:\n",
    "#Add in measurement data as constraints:\n",
    "@constraint(model, 0.3 ≤ vars[\"IIX\"] ≤ 0.6)\n",
    "@constraint(model, 0.79 ≤ vars[\"IIY\"] ≤ 0.81)\n",
    "@constraint(model, -0.4 ≤ vars[\"XIY\"] ≤ -0.38)\n",
    "@constraint(model, 0.3 ≤ vars[\"YIZ\"] ≤ 0.4)\n",
    "@constraint(model, 0.2 ≤ vars[\"ZIX\"] ≤ 0.25)\n",
    "@constraint(model, 0.5 ≤ vars[\"IYZ\"] ≤ 0.55)\n",
    "@constraint(model, 0.72 ≤ vars[\"XZI\"] ≤ 0.74)\n",
    "@constraint(model, 0.72 ≤ vars[\"YXI\"] ≤ 0.74)\n",
    "\n",
    "@time res_interval = pseudostate_bound_expr(vars[\"IIX\"])\n",
    "println(\"Possible interval for IIX: \",res_interval)\n",
    "println(\"Time for maximization solve was \",solve_time(model))\n",
    "\n",
    "@time res_interval = pseudostate_bound_expr(vars[\"YIZ\"])\n",
    "println(\"Possible interval YIZ: \",res_interval)"
   ]
  },
  {
   "cell_type": "markdown",
   "id": "220e1b61",
   "metadata": {
    "jp-MarkdownHeadingCollapsed": true
   },
   "source": [
    "### 8 qubits"
   ]
  },
  {
   "cell_type": "code",
   "execution_count": 54,
   "id": "8ab788ed",
   "metadata": {},
   "outputs": [
    {
     "data": {
      "text/plain": [
       "test_11_qubits (generic function with 1 method)"
      ]
     },
     "execution_count": 54,
     "metadata": {},
     "output_type": "execute_result"
    }
   ],
   "source": [
    "function test_11_qubits(model, vars)\n",
    "    #PAC framework:\n",
    "    #Add in measurement data as constraints:\n",
    "    @constraint(model, -0.9 ≤ vars[\"IIXIIIII\"] ≤ 0.6)\n",
    "    @constraint(model, 0.79 ≤ vars[\"IIYIIIII\"] ≤ 0.81)\n",
    "    @constraint(model, 0.3 ≤ vars[\"XIIIIIII\"] ≤ 0.6)\n",
    "    @constraint(model, 0.79 ≤ vars[\"YIIIIIII\"] ≤ 0.81)\n",
    "    @constraint(model, 0.3 ≤ vars[\"IIZIIIIX\"] ≤ 0.6)\n",
    "    @constraint(model, 0.79 ≤ vars[\"IIIIXIIZ\"] ≤ 0.81)\n",
    "    @constraint(model, -0.4 ≤ vars[\"IIYIIIXI\"] ≤ -0.38)\n",
    "    @constraint(model, 0.3 ≤ vars[\"IYIZIIII\"] ≤ 0.4)\n",
    "    @constraint(model, 0.2 ≤ vars[\"IZIXIIII\"] ≤ 0.25)\n",
    "    @constraint(model, 0.3 ≤ vars[\"IIIIIYIZ\"] ≤ 0.4)\n",
    "    @constraint(model, 0.2 ≤ vars[\"IIIIIZIX\"] ≤ 0.25)\n",
    "    @constraint(model, 0.5 ≤ vars[\"IIIYZIII\"] ≤ 0.55)\n",
    "    @constraint(model, 0.5 ≤ vars[\"IIIIIYZI\"] ≤ 0.55)\n",
    "    @constraint(model, 0.72 ≤ vars[\"IIIIIXZI\"] ≤ 0.74)\n",
    "    @constraint(model, 0.72 ≤ vars[\"YXIIIIII\"] ≤ 0.74)\n",
    "    @constraint(model, 0.72 ≤ vars[\"IIIIXZII\"] ≤ 0.74)\n",
    "    @constraint(model, 0.72 ≤ vars[\"IIIIYXII\"] ≤ 0.74)\n",
    "end"
   ]
  },
  {
   "cell_type": "code",
   "execution_count": 55,
   "id": "6441f6c4",
   "metadata": {},
   "outputs": [
    {
     "name": "stdout",
     "output_type": "stream",
     "text": [
      "Min value = -0.5346960295726031\n",
      "  0.248197 seconds (63.75 k allocations: 38.414 MiB)\n",
      "Possible interval: [-0.5346960295726031, 0.5346923598918945]\n",
      "Time for second solve was 0.11071610450744629\n"
     ]
    }
   ],
   "source": [
    "q = 2 #local dimension 2 (qu-k-its == qubits)\n",
    "n = 8 #8 qubits\n",
    "d = 1 #level-1 pseudostate\n",
    "k = 2 #looking at observables of at most order 2\n",
    "\n",
    "(row_ops, row_ops_flat, mat_ops, row_III) = make_qubit_SDP_vars(q, n, d, k);\n",
    "\n",
    "\n",
    "vars, model = make_pseudostate_model(row_ops, row_ops_flat, mat_ops, row_III)\n",
    "\n",
    "test_11_qubits(model, vars)\n",
    "\n",
    "@time res_interval = pseudostate_bound_expr(vars[\"IIXIIIII\"])\n",
    "println(\"Possible interval: \",res_interval)\n",
    "println(\"Time for second solve was \",solve_time(model))"
   ]
  },
  {
   "cell_type": "code",
   "execution_count": 63,
   "id": "7f4b8d4c",
   "metadata": {},
   "outputs": [
    {
     "data": {
      "text/plain": [
       "test_11_qubits_2 (generic function with 1 method)"
      ]
     },
     "execution_count": 63,
     "metadata": {},
     "output_type": "execute_result"
    }
   ],
   "source": [
    "function test_11_qubits_2(model, vars)\n",
    "    #PAC framework:\n",
    "    #Add in measurement data as constraints:\n",
    "    @constraint(model, -0.9 ≤ vars[\"IIXIIIII\"] ≤ 0.6)\n",
    "    @constraint(model, 0.79 ≤ vars[\"IIYIIIII\"] ≤ 0.81)\n",
    "    @constraint(model, 0.3 ≤ vars[\"XIIIIIII\"] ≤ 0.6)\n",
    "    @constraint(model, 0.79 ≤ vars[\"YIIIIIII\"] ≤ 0.81)\n",
    "    @constraint(model, 0.3 ≤ vars[\"IIZIIIIX\"] ≤ 0.6)\n",
    "#     @constraint(model, 0.79 ≤ vars[\"IIIIXIIZ\"] ≤ 0.81)\n",
    "    @constraint(model, -0.4 ≤ vars[\"IIYIIIXI\"] ≤ -0.38)\n",
    "#     @constraint(model, 0.3 ≤ vars[\"IYIZIIII\"] ≤ 0.4)\n",
    "    @constraint(model, 0.2 ≤ vars[\"IZIXIIII\"] ≤ 0.25)\n",
    "#     @constraint(model, 0.3 ≤ vars[\"IIIIIYIZ\"] ≤ 0.4)\n",
    "    @constraint(model, 0.2 ≤ vars[\"IIIIIZIX\"] ≤ 0.25)\n",
    "#     @constraint(model, 0.5 ≤ vars[\"IIIYZIII\"] ≤ 0.55)\n",
    "    @constraint(model, 0.5 ≤ vars[\"IIIIIYZI\"] ≤ 0.55)\n",
    "#     @constraint(model, 0.72 ≤ vars[\"IIIIIXZI\"] ≤ 0.74)\n",
    "    @constraint(model, 0.72 ≤ vars[\"YXIIIIII\"] ≤ 0.74)\n",
    "#     @constraint(model, 0.72 ≤ vars[\"IIIIXZII\"] ≤ 0.74)\n",
    "    @constraint(model, 0.72 ≤ vars[\"IIIIYXII\"] ≤ 0.74)\n",
    "end"
   ]
  },
  {
   "cell_type": "code",
   "execution_count": 64,
   "id": "f8871830",
   "metadata": {},
   "outputs": [
    {
     "name": "stdout",
     "output_type": "stream",
     "text": [
      "Min value = -0.5347273453036312\n",
      " 68.357837 seconds (2.79 M allocations: 3.120 GiB, 0.13% gc time)\n",
      "Possible interval: [-0.5347273453036312, 0.5347282391754715]\n",
      "Time for second solve was 37.02287316322327\n"
     ]
    }
   ],
   "source": [
    "q = 2 #local dimension 2 (qu-k-its == qubits)\n",
    "n = 8 #8 qubits\n",
    "d = 2 #level-2 pseudostate\n",
    "k = 2 #looking at observables of at most order 2\n",
    "\n",
    "(row_ops, row_ops_flat, mat_ops, row_III) = make_qubit_SDP_vars(q, n, d, k);\n",
    "\n",
    "\n",
    "vars, model = make_pseudostate_model(row_ops, row_ops_flat, mat_ops, row_III)\n",
    "\n",
    "test_11_qubits_2(model, vars)\n",
    "\n",
    "@time res_interval = pseudostate_bound_expr(vars[\"IIXIIIII\"])\n",
    "println(\"Possible interval: \",res_interval)\n",
    "println(\"Time for second solve was \",solve_time(model))"
   ]
  },
  {
   "cell_type": "markdown",
   "id": "db91a397-2e40-4054-b542-236c62cea963",
   "metadata": {},
   "source": [
    "## Pseudohistory"
   ]
  },
  {
   "cell_type": "code",
   "execution_count": 104,
   "id": "ffc39225-6861-45d8-858b-6b9a465b993f",
   "metadata": {},
   "outputs": [
    {
     "data": {
      "text/plain": [
       "2"
      ]
     },
     "execution_count": 104,
     "metadata": {},
     "output_type": "execute_result"
    }
   ],
   "source": [
    "q = 2 #local dimension 2 (qu-k-its == qubits)\n",
    "n = 5 #5 qubits - minimum 'relevant' case since we lift from 1 up to 2 and back down.\n",
    "d = 1 #level-1 pseudostate\n",
    "k = 2 #looking at observables of at most order 2"
   ]
  },
  {
   "cell_type": "code",
   "execution_count": 115,
   "id": "9ef73789-6f60-4346-a74e-e3f7a0516bda",
   "metadata": {},
   "outputs": [],
   "source": [
    "model = JuMP.Model(optimizer_with_attributes(COSMO.Optimizer, \"verbose\" => false));\n",
    "\n",
    "(row_ops_flat, row_III, vars) = make_qubit_SDP_vars(model, q, n, d, k);\n",
    "\n",
    "make_pseudostate_model(model, vars, row_ops_flat, row_III)\n",
    "\n",
    "#Make our initial estimates about the state\n",
    "@constraint(model, 0.3 ≤ vars[\"IIIIX\"] ≤ 0.6)\n",
    "@constraint(model, 0.79 ≤ vars[\"IIIIY\"] ≤ 0.81)\n",
    "@constraint(model, -0.4 ≤ vars[\"IIIIZ\"] ≤ -0.38)\n",
    "@constraint(model, 0.3 ≤ vars[\"IIXXI\"] ≤ 0.6)\n",
    "@constraint(model, 0.79 ≤ vars[\"IIYYI\"] ≤ 0.81)\n",
    "@constraint(model, -0.4 ≤ vars[\"IIZZI\"] ≤ -0.38)\n",
    ";"
   ]
  },
  {
   "cell_type": "code",
   "execution_count": 116,
   "id": "c57a34c8-27a8-4785-b945-f8a2fda655b6",
   "metadata": {},
   "outputs": [],
   "source": [
    "ext_vars = extend_SDP_vars(model, d, vars);"
   ]
  },
  {
   "cell_type": "code",
   "execution_count": 117,
   "id": "4dc27ad5-7469-4ca4-b139-cdf41ac25295",
   "metadata": {},
   "outputs": [
    {
     "data": {
      "text/plain": [
       "A JuMP Model\n",
       "Feasibility problem with:\n",
       "Variables: 885\n",
       "`AffExpr`-in-`MathOptInterface.EqualTo{Float64}`: 105 constraints\n",
       "`AffExpr`-in-`MathOptInterface.Interval{Float64}`: 6 constraints\n",
       "`Vector{AffExpr}`-in-`MathOptInterface.HermitianPositiveSemidefiniteConeTriangle`: 2 constraints\n",
       "`VariableRef`-in-`MathOptInterface.GreaterThan{Float64}`: 885 constraints\n",
       "`VariableRef`-in-`MathOptInterface.LessThan{Float64}`: 885 constraints\n",
       "Model mode: AUTOMATIC\n",
       "CachingOptimizer state: EMPTY_OPTIMIZER\n",
       "Solver name: COSMO\n",
       "Names registered in the model: vars"
      ]
     },
     "execution_count": 117,
     "metadata": {},
     "output_type": "execute_result"
    }
   ],
   "source": [
    "model"
   ]
  },
  {
   "cell_type": "code",
   "execution_count": 118,
   "id": "f8090a48-e0f6-49ef-b827-804cbd6c050c",
   "metadata": {},
   "outputs": [
    {
     "data": {
      "text/plain": [
       "1-dimensional DenseAxisArray{VariableRef,1,...} with index sets:\n",
       "    Dimension 1, [\"XIIII\", \"YIIII\", \"ZIIII\", \"IXIII\", \"IYIII\", \"IZIII\", \"IIXII\", \"IIYII\", \"IIZII\", \"IIIXI\"  …  \"IIZIZ\", \"IIIXX\", \"IIIYX\", \"IIIZX\", \"IIIXY\", \"IIIYY\", \"IIIZY\", \"IIIXZ\", \"IIIYZ\", \"IIIZZ\"]\n",
       "And data, a 105-element Vector{VariableRef}:\n",
       " vars[XIIII]\n",
       " vars[YIIII]\n",
       " vars[ZIIII]\n",
       " vars[IXIII]\n",
       " vars[IYIII]\n",
       " vars[IZIII]\n",
       " vars[IIXII]\n",
       " vars[IIYII]\n",
       " vars[IIZII]\n",
       " vars[IIIXI]\n",
       " vars[IIIYI]\n",
       " vars[IIIZI]\n",
       " vars[IIIIX]\n",
       " ⋮\n",
       " vars[IIXIZ]\n",
       " vars[IIYIZ]\n",
       " vars[IIZIZ]\n",
       " vars[IIIXX]\n",
       " vars[IIIYX]\n",
       " vars[IIIZX]\n",
       " vars[IIIXY]\n",
       " vars[IIIYY]\n",
       " vars[IIIZY]\n",
       " vars[IIIXZ]\n",
       " vars[IIIYZ]\n",
       " vars[IIIZZ]"
      ]
     },
     "execution_count": 118,
     "metadata": {},
     "output_type": "execute_result"
    }
   ],
   "source": [
    "#Step forward with a CNOT gate on qubits 3 and 4.\n",
    "CNOT = Dict{String,Complex}(\"IIIII\" => 1/2, \"IIIXI\" => 1/2, \"IIZII\" => 1/2, \"IIZXI\" => -1/2)\n",
    "evolved_vars = project_SDP_vars(model, d, ext_vars, CNOT)"
   ]
  },
  {
   "cell_type": "code",
   "execution_count": 127,
   "id": "a75428c0-b28c-41a6-b360-7b380f2de12b",
   "metadata": {},
   "outputs": [
    {
     "name": "stdout",
     "output_type": "stream",
     "text": [
      "Min value = -0.6131014780678696\n",
      "  4.829750 seconds (117.90 k allocations: 296.067 MiB, 0.30% gc time)\n",
      "Min value = -0.6131055104741694\n",
      "  4.714197 seconds (117.94 k allocations: 292.876 MiB, 0.19% gc time)\n",
      "[-0.6131014780678696, 0.6130932583327002]\n",
      "[-0.6131055104741694, 0.613100470169085]\n"
     ]
    }
   ],
   "source": [
    "@time res_interval_1 = pseudostate_bound_expr(vars[\"IIIZI\"])\n",
    "@time res_interval_2 = pseudostate_bound_expr(evolved_vars[\"IIZZI\"])\n",
    "println(res_interval_1)\n",
    "println(res_interval_2)"
   ]
  },
  {
   "cell_type": "code",
   "execution_count": 128,
   "id": "d2a38e80-5b28-4e8a-b98d-9910c1a33805",
   "metadata": {},
   "outputs": [
    {
     "name": "stdout",
     "output_type": "stream",
     "text": [
      "Min value = -0.3999999987306233\n",
      "  3.238750 seconds (116.05 k allocations: 232.273 MiB, 0.75% gc time)\n",
      "Min value = -0.4000000000000147\n",
      "  3.228444 seconds (116.10 k allocations: 230.685 MiB, 0.31% gc time)\n",
      "[-0.3999999987306233, -0.37999999999999956]\n",
      "[-0.4000000000000147, -0.380000000005707]\n"
     ]
    }
   ],
   "source": [
    "@time res_interval_1 = pseudostate_bound_expr(vars[\"IIZZI\"])\n",
    "@time res_interval_2 = pseudostate_bound_expr(evolved_vars[\"IIIZI\"])\n",
    "println(res_interval_1)\n",
    "println(res_interval_2)"
   ]
  }
 ],
 "metadata": {
  "kernelspec": {
   "display_name": "Julia 1.9.3",
   "language": "julia",
   "name": "julia-1.9"
  },
  "language_info": {
   "file_extension": ".jl",
   "mimetype": "application/julia",
   "name": "julia",
   "version": "1.9.3"
  }
 },
 "nbformat": 4,
 "nbformat_minor": 5
}
